{
 "cells": [
  {
   "cell_type": "code",
   "execution_count": null,
   "metadata": {},
   "outputs": [],
   "source": [
    "#\n",
    "# Generates a 16 bit q and 64 bit p, both prime\n",
    "# such that q divides p-1\n",
    "#\n",
    "def DSA_generate_domain_parameters():\n",
    "\n",
    "    g = 1\n",
    "\n",
    "    while (1 == g):\n",
    "\n",
    "        # first find a q    \n",
    "        q = 1\n",
    "        while (q < 2^15): q = random_prime(2^16)\n",
    "\n",
    "        # next find a p    \n",
    "        p = 1\n",
    "        while (not is_prime(p)):\n",
    "            p = (2^47 + randint(1,2^45)*2)*q + 1\n",
    "\n",
    "\n",
    "        F = GF(p)    \n",
    "\n",
    "        h = randint(2,p-1)\n",
    "\n",
    "        g = (F(h)^((p-1)/q)).lift()\n",
    "        \n",
    "    return (p, q, g)"
   ]
  },
  {
   "cell_type": "code",
   "execution_count": null,
   "metadata": {},
   "outputs": [],
   "source": [
    "#\n",
    "# Generates a users private and public key\n",
    "# given domain parameters p, q, and g\n",
    "#\n",
    "def DSA_generate_keypair(p, q, g):\n",
    "\n",
    "    x = randint(2,q-1)\n",
    "\n",
    "    F = GF(p)\n",
    "\n",
    "    y = F(g)^x\n",
    "    y = y.lift()\n",
    "\n",
    "    return (x,y)"
   ]
  },
  {
   "cell_type": "code",
   "execution_count": null,
   "metadata": {},
   "outputs": [],
   "source": [
    "#\n",
    "# given domain parameters p, q and g\n",
    "# as well as a secret key x\n",
    "# and a hash value H\n",
    "# this performs the DSA signing algorithm\n",
    "#\n",
    "def DSA_sign(p, q, g, x, H):\n",
    "\n",
    "    k = randint(2,q-1)\n",
    "\n",
    "    F = GF(p)\n",
    "\n",
    "    r = F(g)^k\n",
    "    r = r.lift() % q\n",
    "\n",
    "    kinv = xgcd(k,q)[1] % q\n",
    "\n",
    "    s = kinv*(H + x*r) % q\n",
    "\n",
    "    return (r, s)"
   ]
  },
  {
   "cell_type": "code",
   "execution_count": null,
   "metadata": {},
   "outputs": [],
   "source": [
    "#\n",
    "# Verifies a user's DSA signature\n",
    "# given p, q, g, H, r, and s\n",
    "#\n",
    "def DSA_verify(p, q, g, y, H, r, s):\n",
    "\n",
    "    F = GF(p)\n",
    "\n",
    "    w = xgcd(s, q)[1] % q\n",
    "\n",
    "    u1 = H*w % q\n",
    "\n",
    "    u2 = r*w % q\n",
    "\n",
    "    v = F(g)^u1 * F(y)^u2\n",
    "    v = v.lift() % q\n",
    "\n",
    "    return (v == r)"
   ]
  }
 ],
 "metadata": {
  "kernelspec": {
   "display_name": "Python 3",
   "language": "python",
   "name": "python3"
  },
  "language_info": {
   "codemirror_mode": {
    "name": "ipython",
    "version": 3
   },
   "file_extension": ".py",
   "mimetype": "text/x-python",
   "name": "python",
   "nbconvert_exporter": "python",
   "pygments_lexer": "ipython3",
   "version": "3.7.7"
  }
 },
 "nbformat": 4,
 "nbformat_minor": 2
}
