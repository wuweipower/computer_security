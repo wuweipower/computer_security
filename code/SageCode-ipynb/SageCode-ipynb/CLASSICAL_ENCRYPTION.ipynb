{
 "cells": [
  {
   "cell_type": "code",
   "execution_count": 1,
   "metadata": {},
   "outputs": [],
   "source": [
    "en_alphabet = \"abcdefghijklmnopqrstuvwxyz\""
   ]
  },
  {
   "cell_type": "code",
   "execution_count": 2,
   "metadata": {},
   "outputs": [],
   "source": [
    "#\n",
    "# This function returns true if and only if the character c is an alphabetic character\n",
    "#\n",
    "def is_alphabetic_char(c):\n",
    "    return (c.lower() in en_alphabet)\n",
    "\n",
    "#\n",
    "# This function converts a single character into its numeric value\n",
    "#\n",
    "def char_to_num(c):\n",
    "    return en_alphabet.index(c.lower())\n",
    "    \n",
    "#\n",
    "# This function returns the character corresponding to x mod 26 in the English alphabet\n",
    "#\n",
    "def num_to_char(x):\n",
    "    return en_alphabet[x % 26]"
   ]
  },
  {
   "cell_type": "code",
   "execution_count": 3,
   "metadata": {},
   "outputs": [],
   "source": [
    "def CaesarEncrypt(k, plaintext):\n",
    "    ciphertext = \"\"\n",
    "    for j in range(len(plaintext)):\n",
    "        p = plaintext[j]\n",
    "        if is_alphabetic_char(p):\n",
    "            x = (k + char_to_num(p)) % 26\n",
    "            c = num_to_char(x)\n",
    "        else:\n",
    "            c = p\n",
    "        ciphertext += c\n",
    "    return ciphertext\n",
    "\n",
    "def CaesarDecrypt(k, ciphertext):\n",
    "    plaintext = \"\"\n",
    "    for j in range(len(ciphertext)):\n",
    "        c = ciphertext[j]\n",
    "        if is_alphabetic_char(c):\n",
    "            x = (char_to_num(c) - k) % 26\n",
    "            p = num_to_char(x)\n",
    "        else:\n",
    "            p = c\n",
    "        plaintext += p\n",
    "    return plaintext"
   ]
  },
  {
   "cell_type": "code",
   "execution_count": 16,
   "metadata": {},
   "outputs": [],
   "source": [
    "def BruteForceAttack(ciphertext, keyword=None):\n",
    "    for k in range(26):\n",
    "        plaintext = CaesarDecrypt(k, ciphertext)\n",
    "        if (None==keyword) or (keyword in plaintext):\n",
    "            print ('key', k, \"decryption\", plaintext)\n",
    "    return"
   ]
  },
  {
   "cell_type": "code",
   "execution_count": 30,
   "metadata": {},
   "outputs": [
    {
     "name": "stdout",
     "output_type": "stream",
     "text": [
      "khoor vfxwhuv!\n"
     ]
    }
   ],
   "source": [
    "k=3; plaintext = 'hello scuters!'\n",
    "encrypt=CaesarEncrypt(k,plaintext)\n",
    "print(encrypt)"
   ]
  },
  {
   "cell_type": "code",
   "execution_count": 31,
   "metadata": {},
   "outputs": [
    {
     "name": "stdout",
     "output_type": "stream",
     "text": [
      "hello scuters!\n"
     ]
    }
   ],
   "source": [
    "plain = CaesarDecrypt(k,encrypt)\n",
    "print(plain)"
   ]
  },
  {
   "cell_type": "code",
   "execution_count": 17,
   "metadata": {},
   "outputs": [
    {
     "data": {
      "text/plain": [
       "'o cgtz zu mu zu znk suboky zutomnz.'"
      ]
     },
     "execution_count": 17,
     "metadata": {},
     "output_type": "execute_result"
    }
   ],
   "source": [
    "k = 6; plaintext = 'I want to go to the movies tonight.'\n",
    "CaesarEncrypt(k, plaintext)"
   ]
  },
  {
   "cell_type": "code",
   "execution_count": 18,
   "metadata": {},
   "outputs": [
    {
     "data": {
      "text/plain": [
       "'i want to go to the movies tonight.'"
      ]
     },
     "execution_count": 18,
     "metadata": {},
     "output_type": "execute_result"
    }
   ],
   "source": [
    "k = 6; ciphertext = 'o cgtz zu mu zu znk suboky zutomnz.'\n",
    "CaesarDecrypt(k, ciphertext)"
   ]
  },
  {
   "cell_type": "code",
   "execution_count": 19,
   "metadata": {},
   "outputs": [
    {
     "data": {
      "text/plain": [
       "'mkz sk g bgtorrg oik ixkgs, sgqk oz g juahrk.'"
      ]
     },
     "execution_count": 19,
     "metadata": {},
     "output_type": "execute_result"
    }
   ],
   "source": [
    "k = 6; plaintext = 'Get me a vanilla ice cream, make it a double.'\n",
    "CaesarEncrypt(k, plaintext)"
   ]
  },
  {
   "cell_type": "code",
   "execution_count": 20,
   "metadata": {},
   "outputs": [
    {
     "data": {
      "text/plain": [
       "\"x sdc'i bjrw rpgt udg atdcpgs rdwtc.\""
      ]
     },
     "execution_count": 20,
     "metadata": {},
     "output_type": "execute_result"
    }
   ],
   "source": [
    "k = 15; plaintext = \"I don't much care for Leonard Cohen.\"\n",
    "CaesarEncrypt(k, plaintext)"
   ]
  },
  {
   "cell_type": "code",
   "execution_count": 21,
   "metadata": {},
   "outputs": [
    {
     "data": {
      "text/plain": [
       "'y byau heej ruuh vbeqji.'"
      ]
     },
     "execution_count": 21,
     "metadata": {},
     "output_type": "execute_result"
    }
   ],
   "source": [
    "k = 16; plaintext = \"I like root beer floats.\"\n",
    "CaesarEncrypt(k, plaintext)"
   ]
  },
  {
   "cell_type": "code",
   "execution_count": 22,
   "metadata": {},
   "outputs": [
    {
     "data": {
      "text/plain": [
       "'bring the pine cones.'"
      ]
     },
     "execution_count": 22,
     "metadata": {},
     "output_type": "execute_result"
    }
   ],
   "source": [
    "k = 12; ciphertext = \"nduzs ftq buzq oazqe.\"\n",
    "CaesarDecrypt(k, ciphertext)"
   ]
  },
  {
   "cell_type": "code",
   "execution_count": 23,
   "metadata": {},
   "outputs": [
    {
     "data": {
      "text/plain": [
       "'caesar needs to lose weight.'"
      ]
     },
     "execution_count": 23,
     "metadata": {},
     "output_type": "execute_result"
    }
   ],
   "source": [
    "k = 3; ciphertext = \"fdhvdu qhhgv wr orvh zhljkw.\"\n",
    "CaesarDecrypt(k, ciphertext)"
   ]
  },
  {
   "cell_type": "code",
   "execution_count": 24,
   "metadata": {},
   "outputs": [
    {
     "data": {
      "text/plain": [
       "'almonds are tastey.'"
      ]
     },
     "execution_count": 24,
     "metadata": {},
     "output_type": "execute_result"
    }
   ],
   "source": [
    "k = 20; ciphertext = \"ufgihxm uly numnys.\"\n",
    "CaesarDecrypt(k, ciphertext)"
   ]
  },
  {
   "cell_type": "code",
   "execution_count": 25,
   "metadata": {},
   "outputs": [
    {
     "name": "stdout",
     "output_type": "stream",
     "text": [
      "key 13 decryption tell them to go to ambrose chapel.\n"
     ]
    }
   ],
   "source": [
    "ciphertext = 'gryy gurz gb tb gb nzoebfr puncry.'\n",
    "BruteForceAttack(ciphertext, 'chapel')"
   ]
  },
  {
   "cell_type": "code",
   "execution_count": 26,
   "metadata": {},
   "outputs": [
    {
     "name": "stdout",
     "output_type": "stream",
     "text": [
      "key 17 decryption fire the shot when the cymbals crash.\n"
     ]
    }
   ],
   "source": [
    "ciphertext = 'wziv kyv jyfk nyve kyv tpdsrcj tirjy.'\n",
    "BruteForceAttack(ciphertext, 'cymbal')"
   ]
  },
  {
   "cell_type": "code",
   "execution_count": 27,
   "metadata": {},
   "outputs": [
    {
     "name": "stdout",
     "output_type": "stream",
     "text": [
      "key 0 decryption baeeq klwosjl osk s esf ozg cfwo lgg emuz.\n",
      "key 1 decryption azddp jkvnrik nrj r dre nyf bevn kff dlty.\n",
      "key 2 decryption zycco ijumqhj mqi q cqd mxe adum jee cksx.\n",
      "key 3 decryption yxbbn hitlpgi lph p bpc lwd zctl idd bjrw.\n",
      "key 4 decryption xwaam ghskofh kog o aob kvc ybsk hcc aiqv.\n",
      "key 5 decryption wvzzl fgrjneg jnf n zna jub xarj gbb zhpu.\n",
      "key 6 decryption vuyyk efqimdf ime m ymz ita wzqi faa ygot.\n",
      "key 7 decryption utxxj dephlce hld l xly hsz vyph ezz xfns.\n",
      "key 8 decryption tswwi cdogkbd gkc k wkx gry uxog dyy wemr.\n",
      "key 9 decryption srvvh bcnfjac fjb j vjw fqx twnf cxx vdlq.\n",
      "key 10 decryption rquug abmeizb eia i uiv epw svme bww uckp.\n",
      "key 11 decryption qpttf zaldhya dhz h thu dov ruld avv tbjo.\n",
      "key 12 decryption posse yzkcgxz cgy g sgt cnu qtkc zuu sain.\n",
      "key 13 decryption onrrd xyjbfwy bfx f rfs bmt psjb ytt rzhm.\n",
      "key 14 decryption nmqqc wxiaevx aew e qer als oria xss qygl.\n",
      "key 15 decryption mlppb vwhzduw zdv d pdq zkr nqhz wrr pxfk.\n",
      "key 16 decryption lkooa uvgyctv ycu c ocp yjq mpgy vqq owej.\n",
      "key 17 decryption kjnnz tufxbsu xbt b nbo xip lofx upp nvdi.\n",
      "key 18 decryption jimmy stewart was a man who knew too much.\n",
      "key 19 decryption ihllx rsdvzqs vzr z lzm vgn jmdv snn ltbg.\n",
      "key 20 decryption hgkkw qrcuypr uyq y kyl ufm ilcu rmm ksaf.\n",
      "key 21 decryption gfjjv pqbtxoq txp x jxk tel hkbt qll jrze.\n",
      "key 22 decryption feiiu opaswnp swo w iwj sdk gjas pkk iqyd.\n",
      "key 23 decryption edhht nozrvmo rvn v hvi rcj fizr ojj hpxc.\n",
      "key 24 decryption dcggs mnyquln qum u guh qbi ehyq nii gowb.\n",
      "key 25 decryption cbffr lmxptkm ptl t ftg pah dgxp mhh fnva.\n"
     ]
    }
   ],
   "source": [
    "ciphertext = 'baeeq klwosjl osk s esf ozg cfwo lgg emuz.'\n",
    "BruteForceAttack(ciphertext)"
   ]
  },
  {
   "cell_type": "code",
   "execution_count": null,
   "metadata": {},
   "outputs": [],
   "source": []
  }
 ],
 "metadata": {
  "kernelspec": {
   "display_name": "SageMath 9.2",
   "language": "sage",
   "name": "sagemath"
  },
  "language_info": {
   "codemirror_mode": {
    "name": "ipython",
    "version": 3
   },
   "file_extension": ".py",
   "mimetype": "text/x-python",
   "name": "python",
   "nbconvert_exporter": "python",
   "pygments_lexer": "ipython3",
   "version": "3.7.7"
  }
 },
 "nbformat": 4,
 "nbformat_minor": 2
}
