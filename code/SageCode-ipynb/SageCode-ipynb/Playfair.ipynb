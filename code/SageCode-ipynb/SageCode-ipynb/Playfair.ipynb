{
 "cells": [
  {
   "cell_type": "code",
   "execution_count": 1,
   "metadata": {},
   "outputs": [],
   "source": [
    "import numpy as np\n",
    "visit={}\n",
    "for i in range(ord('a'),ord('z')+1):\n",
    "    visit[chr(i)]=False\n",
    "del visit['j']"
   ]
  },
  {
   "cell_type": "code",
   "execution_count": 2,
   "metadata": {},
   "outputs": [],
   "source": [
    "def key_matrix(key):\n",
    "    k = ''\n",
    "    key = key.lower().replace('j','i')\n",
    "    for i in key:\n",
    "        if i not in k:\n",
    "            k+=i\n",
    "            visit[i]=True\n",
    "    matrix=[]\n",
    "    for i in k:\n",
    "        matrix.append(i)\n",
    "    \n",
    "\n",
    "    for i,j in visit.items():\n",
    "        if j ==False:\n",
    "            matrix.append(i)\n",
    "    matrix = np.array(matrix).reshape((5,5))\n",
    "    print(matrix)\n",
    "    return matrix"
   ]
  },
  {
   "cell_type": "code",
   "execution_count": 3,
   "metadata": {},
   "outputs": [
    {
     "name": "stdout",
     "output_type": "stream",
     "text": [
      "['co', 'mx', 'mu', 'ni', 'st']\n"
     ]
    },
    {
     "data": {
      "text/plain": [
       "['co', 'mx', 'mu', 'ni', 'st']"
      ]
     },
     "execution_count": 3,
     "metadata": {},
     "output_type": "execute_result"
    }
   ],
   "source": [
    "def process_plain(p):\n",
    "    groups=[]\n",
    "    i=0\n",
    "    while(i<len(p)):\n",
    "        if(p[i]!=p[i+1]):\n",
    "            groups.append(p[i]+p[i+1])\n",
    "            i+=2\n",
    "        else:\n",
    "            groups.append(p[i]+'x')\n",
    "            i+=1\n",
    "    print(groups)\n",
    "    return groups\n",
    "\n",
    "process_plain(\"communist\")"
   ]
  },
  {
   "cell_type": "code",
   "execution_count": 4,
   "metadata": {},
   "outputs": [],
   "source": [
    "def find_index(ch,matrix):\n",
    "    for i in range(len(matrix)):\n",
    "        for j in range(len(matrix[0])):\n",
    "            if ch == matrix[i][j]:\n",
    "                return i,j\n",
    "    \n",
    "    return -1,-1\n",
    "\n",
    "\n",
    "def encrypt(group,key_matrix): #经过处理后的双字母对\n",
    "    res=[]\n",
    "    for g in group:\n",
    "        ix,iy = find_index(g[0],key_matrix)\n",
    "        jx,jy = find_index(g[1],key_matrix)\n",
    "        if ix == jx: #同行\n",
    "            c1 = key_matrix[ix][(iy+1)%5]\n",
    "            c2 = key_matrix[jx][(jy+1)%5]\n",
    "            res.append(c1+c2)\n",
    "        elif iy == jy: #同列\n",
    "            c1 = key_matrix[(ix+1)%5][iy]\n",
    "            c2 = key_matrix[(jx+1)%5][jy]\n",
    "            res.append(c1+c2)\n",
    "        else:\n",
    "            c1 = key_matrix[ix][jy]\n",
    "            c2 = key_matrix[jx][iy]\n",
    "            res.append(c1+c2)\n",
    "    \n",
    "    return res\n",
    "\n",
    "def decrypt(group,key_matrix):\n",
    "    res=[]\n",
    "    for g in group:\n",
    "        ix,iy = find_index(g[0],key_matrix)\n",
    "        jx,jy = find_index(g[1],key_matrix)\n",
    "        if ix == jx: #同行\n",
    "            c1 = key_matrix[ix][(iy-1+5)%5]\n",
    "            c2 = key_matrix[jx][(jy-1+5)%5]\n",
    "            res.append(c1+c2)\n",
    "        elif iy == jy: #同列\n",
    "            c1 = key_matrix[(ix-1+5)%5][iy]\n",
    "            c2 = key_matrix[(jx-1+5)%5][jy]\n",
    "            res.append(c1+c2)\n",
    "        else:\n",
    "            c1 = key_matrix[ix][jy]\n",
    "            c2 = key_matrix[jx][iy]\n",
    "            res.append(c1+c2)\n",
    "    \n",
    "    return res"
   ]
  },
  {
   "cell_type": "code",
   "execution_count": 5,
   "metadata": {},
   "outputs": [
    {
     "name": "stdout",
     "output_type": "stream",
     "text": [
      "['he', 'lx', 'lo']\n",
      "[['w' 'o' 'r' 'l' 'd']\n",
      " ['a' 'b' 'c' 'e' 'f']\n",
      " ['g' 'h' 'i' 'k' 'm']\n",
      " ['n' 'p' 'q' 's' 't']\n",
      " ['u' 'v' 'x' 'y' 'z']]\n",
      "['kb', 'ry', 'dr']\n",
      "['he', 'lx', 'lo']\n"
     ]
    }
   ],
   "source": [
    "plain = \"hello\"\n",
    "key = \"world\"\n",
    "processed=process_plain(plain)\n",
    "key= key_matrix(key)\n",
    "enc = encrypt(processed,key)\n",
    "print(enc)\n",
    "dec = decrypt(enc,key)\n",
    "print(dec)"
   ]
  },
  {
   "cell_type": "code",
   "execution_count": null,
   "metadata": {},
   "outputs": [],
   "source": []
  }
 ],
 "metadata": {
  "kernelspec": {
   "display_name": "SageMath 9.2",
   "language": "sage",
   "name": "sagemath"
  },
  "language_info": {
   "codemirror_mode": {
    "name": "ipython",
    "version": 3
   },
   "file_extension": ".py",
   "mimetype": "text/x-python",
   "name": "python",
   "nbconvert_exporter": "python",
   "pygments_lexer": "ipython3",
   "version": "3.7.7"
  }
 },
 "nbformat": 4,
 "nbformat_minor": 4
}
