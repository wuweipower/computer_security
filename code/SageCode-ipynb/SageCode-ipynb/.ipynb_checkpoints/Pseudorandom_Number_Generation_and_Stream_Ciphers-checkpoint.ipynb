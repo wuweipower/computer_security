{
 "cells": [
  {
   "cell_type": "code",
   "execution_count": null,
   "metadata": {},
   "outputs": [],
   "source": [
    "def BlumBlumShub_Initialize(bitlen, seed):\n",
    "    r\"\"\"\n",
    "    Initializes a Blum-Blum-Shub RNG State.\n",
    "    A BBS-RNG State is a list with two elements: [N, X]\n",
    "    N is a 2*bitlen modulus (product of two primes)\n",
    "    X is the current state of the PRNG.\n",
    "    INPUT:\n",
    "        bitlen - the bit length of each of the prime factors of n\n",
    "        seed - a large random integer to start out the prng\n",
    "    OUTPUT:\n",
    "        state - a BBS-RNG internal state\n",
    "    \"\"\"\n",
    "    # note that this is not the most cryptographically secure\n",
    "    # way to generate primes, because we do not know how the\n",
    "    # internal sage random_prime function works.\n",
    "    \n",
    "    p = 3;\n",
    "    while (p < 2^(bitlen-1)) or (3 != (p % 4)):\n",
    "        p = random_prime(2^bitlen);\n",
    "    \n",
    "    q = 3;\n",
    "    while (q < 2^(bitlen-1)) or (3 != (q % 4)):\n",
    "        q = random_prime(2^bitlen);\n",
    "    \n",
    "    N = p*q;\n",
    "    X = (seed^2 % N)\n",
    "    state = [N, X]\n",
    "    return state;"
   ]
  },
  {
   "cell_type": "code",
   "execution_count": null,
   "metadata": {},
   "outputs": [],
   "source": [
    "def BlumBlumShub_Generate(num_bits, state):\n",
    "    r\"\"\"\n",
    "    Blum-Blum-Shum random number generation function.\n",
    "    INPUT:\n",
    "        num_bits - the number of bits (iterations) to generate with this RNG.\n",
    "        state - an internal state of the BBS-RNG (a list [N, X].)\n",
    "    OUTPUT:\n",
    "        random_bits - a num_bits length list of random bits.\n",
    "    \"\"\"\n",
    "    random_bits = [];\n",
    "    N = state[0];\n",
    "    X = state[1]\n",
    "    for j in range(num_bits):\n",
    "        X = X^2 % N\n",
    "        random_bits.append(X % 2)\n",
    "    # update the internal state\n",
    "    state[1] = X;\n",
    "    return random_bits;"
   ]
  },
  {
   "cell_type": "code",
   "execution_count": null,
   "metadata": {},
   "outputs": [],
   "source": [
    "def LinearCongruential_Initialize(a, c, m, X0):\n",
    "    r\"\"\"\n",
    "    This functional initializes a linear congruential RNG state.\n",
    "    This state is a list of four integers: [a, c, m, X]\n",
    "    a,c,m are the parameters of the linear congruential instantiation X is the current state of the PRNG.\n",
    "    INPUT:\n",
    "        a - The coefficient c - The offset m - The modulus X0 - The initial state\n",
    "    OUTPUT:\n",
    "        state - The initial internal state of the RNG\n",
    "    \"\"\"\n",
    "    return [a,c,m,X0]"
   ]
  },
  {
   "cell_type": "code",
   "execution_count": null,
   "metadata": {},
   "outputs": [],
   "source": [
    "def LinearCongruential_Generate(state):\n",
    "    r\"\"\"\n",
    "    Generates a single linear congruential RNG output and updates the state.\n",
    "    INPUT:\n",
    "        state - an internal RNG state.\n",
    "    OUTPUT:\n",
    "        X - a single output of the linear congruential RNG.\n",
    "    \"\"\"\n",
    "    a = state[0]\n",
    "    c = state[1]\n",
    "    m = state[2]\n",
    "    X = state[3]\n",
    "    X_next = (a*X + c) % m\n",
    "    state[3] = X_next\n",
    "    return X_next"
   ]
  }
 ],
 "metadata": {
  "kernelspec": {
   "display_name": "Python 3",
   "language": "python",
   "name": "python3"
  },
  "language_info": {
   "codemirror_mode": {
    "name": "ipython",
    "version": 3
   },
   "file_extension": ".py",
   "mimetype": "text/x-python",
   "name": "python",
   "nbconvert_exporter": "python",
   "pygments_lexer": "ipython3",
   "version": "3.7.7"
  }
 },
 "nbformat": 4,
 "nbformat_minor": 2
}
