{
 "cells": [
  {
   "cell_type": "code",
   "execution_count": 62,
   "metadata": {},
   "outputs": [
    {
     "data": {
      "text/plain": [
       "('01011111', '11111100')"
      ]
     },
     "execution_count": 62,
     "metadata": {},
     "output_type": "execute_result"
    }
   ],
   "source": [
    "# generate key\n",
    "def P10(string):\n",
    "    res=string[2]+string[4]+string[1]+string[6]+string[3]+string[9]+string[0]+string[8]+string[7]+string[5]\n",
    "    return res\n",
    "\n",
    "def LS_N(string,n):\n",
    "    res=string\n",
    "    for i in range(n):\n",
    "        temp = res[0]\n",
    "        res = res[1:]\n",
    "        res+=temp\n",
    "    return res\n",
    "\n",
    "def P8(s):\n",
    "    res = s[5]+s[2]+s[6]+s[3]+s[7]+s[4]+s[9]+s[8]\n",
    "    return res\n",
    "\n",
    "def generate_key(key):\n",
    "    p10 = P10(key)\n",
    "    Left_LS_1 = LS_N(p10[:5],1)\n",
    "    Right_LS_1 = LS_N(p10[5:],1)\n",
    "    K1 = P8(Left_LS_1+Right_LS_1)\n",
    "    #print(K1)\n",
    "    \n",
    "    Left_LS_2 = LS_N(Left_LS_1,2)\n",
    "    Right_LS_2 = LS_N(Right_LS_1,2)\n",
    "    K2 = P8(Left_LS_2+Right_LS_2)\n",
    "    #print(K2)\n",
    "    return K1,K2\n",
    "generate_key('0111111101')"
   ]
  },
  {
   "cell_type": "code",
   "execution_count": 99,
   "metadata": {},
   "outputs": [],
   "source": [
    "def IP(p):\n",
    "    return p[1]+p[5]+p[2]+p[0]+p[3]+p[7]+p[4]+p[6]\n",
    "def IP_Inverse(p):\n",
    "    return p[3]+p[0]+p[2]+p[4]+p[6]+p[1]+p[7]+p[5]\n",
    "\n",
    "def EP(n):\n",
    "    return n[3]+n[0]+n[1]+n[2]+n[1]+n[2]+n[3]+n[0]\n",
    "\n",
    "def XOR(a,b):\n",
    "    res=''\n",
    "    for i in range(len(a)):\n",
    "        res+=str(int(a[i])^int(b[i]))\n",
    "    return res\n",
    "\n",
    "def S0(s):\n",
    "    matrix=[\n",
    "        [1,0,3,2],\n",
    "        [3,2,1,0],\n",
    "        [0,2,1,3],\n",
    "        [3,1,3,2]\n",
    "    ]\n",
    "    i = int(s[0])*2+int(s[3])\n",
    "    j = int(s[1])*2+int(s[2])\n",
    "    res = bin(matrix[i][j])[2:]\n",
    "    res = (2-len(res))*'0'+str(res)\n",
    "    return res\n",
    "\n",
    "def S1(s):\n",
    "    matrix=[\n",
    "        [0,1,2,3],\n",
    "        [2,0,1,3],\n",
    "        [3,0,1,0],\n",
    "        [2,1,0,3]\n",
    "    ]\n",
    "    i = int(s[0])*2+int(s[3])\n",
    "    j = int(s[1])*2+int(s[2])\n",
    "    res = bin(matrix[i][j])[2:]\n",
    "    res = (2-len(res))*'0'+str(res)\n",
    "    return res\n",
    "\n",
    "def SW(s):\n",
    "    return s[4:]+s[0:4]\n",
    "\n",
    "def P4(s):\n",
    "    return s[1]+s[3]+s[2]+s[0]\n",
    "def encrypt(plain,K1,K2):\n",
    "    ip_res = IP(plain)\n",
    "    ##########################\n",
    "    left = ip_res[0:4]\n",
    "    right = ip_res[4:]\n",
    "    \n",
    "    EP_res = EP(right)\n",
    "    K1_res = XOR(EP_res,K1)\n",
    "    \n",
    "    S0_res = S0(K1_res[0:4])\n",
    "    S1_res = S1(K1_res[4:])\n",
    "    \n",
    "    P4_res = P4(S0_res+S1_res)\n",
    "    \n",
    "    XOR_res = XOR(left,P4_res)\n",
    "    \n",
    "    ##########################\n",
    "    left = right\n",
    "    right = XOR_res\n",
    "    \n",
    "    EP_res = EP(right)\n",
    "    K2_res = XOR(EP_res,K2)\n",
    "    \n",
    "    S0_res = S0(K2_res[0:4])\n",
    "    S1_res = S1(K2_res[4:])\n",
    "    \n",
    "    P4_res = P4(S0_res+S1_res)\n",
    "    \n",
    "    XOR_res = XOR(left,P4_res)\n",
    "    \n",
    "    ##########################\n",
    "    ip_reverse = IP_Inverse(XOR_res)\n",
    "    return ip_reverse\n",
    "\n",
    "def decrypt(cipher,K1,K2):\n",
    "    ip_res = IP(cipher)\n",
    "\n",
    "    ##########################\n",
    "    left = ip_res[0:4]\n",
    "    right = ip_res[4:]\n",
    "    \n",
    "    EP_res = EP(right)\n",
    "\n",
    "    K1_res = XOR(EP_res,K2)\n",
    "\n",
    "    S0_res = S0(K1_res[0:4])\n",
    "    S1_res = S1(K1_res[4:])\n",
    "\n",
    "    P4_res = P4(S0_res+S1_res)\n",
    "    XOR_res = XOR(left,P4_res)\n",
    "\n",
    "    \n",
    "    ##########################\n",
    "    left = right\n",
    "    right = XOR_res\n",
    "\n",
    "    EP_res = EP(right)\n",
    "    K2_res = XOR(EP_res,K1)\n",
    "\n",
    "    S0_res = S0(K2_res[0:4])\n",
    "    S1_res = S1(K2_res[4:])\n",
    "\n",
    "    P4_res = P4(S0_res+S1_res)  \n",
    "    XOR_res = XOR(left,P4_res)\n",
    "    ##########################\n",
    "    ip_reverse = IP_Inverse(XOR_res+right)\n",
    "    return ip_reverse"
   ]
  },
  {
   "cell_type": "code",
   "execution_count": 100,
   "metadata": {},
   "outputs": [
    {
     "name": "stdout",
     "output_type": "stream",
     "text": [
      "0010\n"
     ]
    }
   ],
   "source": [
    "print('0'*2+str(bin(2)[2:]))"
   ]
  },
  {
   "cell_type": "code",
   "execution_count": 101,
   "metadata": {},
   "outputs": [
    {
     "name": "stdout",
     "output_type": "stream",
     "text": [
      "11101010\n"
     ]
    }
   ],
   "source": [
    "#使用课堂上讲的例题来验证\n",
    "K1,K2 = generate_key('0111111101')\n",
    "res = decrypt('10100010',K1,K2)\n",
    "print(res)"
   ]
  },
  {
   "cell_type": "code",
   "execution_count": null,
   "metadata": {},
   "outputs": [],
   "source": []
  },
  {
   "cell_type": "code",
   "execution_count": null,
   "metadata": {},
   "outputs": [],
   "source": []
  }
 ],
 "metadata": {
  "kernelspec": {
   "display_name": "Python 3",
   "language": "python",
   "name": "python3"
  },
  "language_info": {
   "codemirror_mode": {
    "name": "ipython",
    "version": 3
   },
   "file_extension": ".py",
   "mimetype": "text/x-python",
   "name": "python",
   "nbconvert_exporter": "python",
   "pygments_lexer": "ipython3",
   "version": "3.7.7"
  }
 },
 "nbformat": 4,
 "nbformat_minor": 4
}
