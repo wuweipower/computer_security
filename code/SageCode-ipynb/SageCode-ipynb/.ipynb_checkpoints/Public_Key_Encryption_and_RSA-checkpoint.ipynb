{
 "cells": [
  {
   "cell_type": "code",
   "execution_count": null,
   "metadata": {},
   "outputs": [],
   "source": [
    "#\n",
    "# This is a function that performs RSA key generation\n",
    "# n is a bitlength this function generates an RSA\n",
    "# key pair where the modulus is bitlength n.\n",
    "# Returns a tuple (N, e, d)\n",
    "# N is an n bit RSA modulus\n",
    "# e is an encrypt key\n",
    "# d us a decrypt key\n",
    "#\n",
    "def RSA_key_generation(n):\n",
    "    m = n.quo_rem(2)[0] # floor(n/2)\n",
    "    \n",
    "    p = 1\n",
    "    while (p < 2^(m-1)):\n",
    "        p = random_prime(2^m)\n",
    "\n",
    "    q = 1\n",
    "    while (q < 2^(m-1)):\n",
    "        q = random_prime(2^m)\n",
    "\n",
    "    N = p*q\n",
    "    phi_N = (p-1)*(q-1)\n",
    "    \n",
    "    e = phi_N\n",
    "    g = phi_N\n",
    "    while (1 != g):\n",
    "        e = randint(3,phi_N-1)\n",
    "        (g, d, t) = xgcd(e, phi_N)\n",
    "\n",
    "    return (N, e, d)"
   ]
  },
  {
   "cell_type": "code",
   "execution_count": null,
   "metadata": {},
   "outputs": [],
   "source": [
    "#\n",
    "# This is a function that performs RSA Encryption\n",
    "# N is an RSA modulus, and e is a public exponent.\n",
    "# P is a plaintext, taken to be a number less than\n",
    "# and relatively prime to N\n",
    "#\n",
    "def RSA_encrypt(N, e, P):\n",
    "    R = IntegerModRing(N)\n",
    "    C = R(P)^e\n",
    "    C = C.lift()\n",
    "    return C"
   ]
  },
  {
   "cell_type": "code",
   "execution_count": null,
   "metadata": {},
   "outputs": [],
   "source": [
    "#\n",
    "# This is a function that performs RSA Decryption\n",
    "# N is an RSA modulus, and e is a private exponent.\n",
    "# C is a ciphertext, taken to be a number less than\n",
    "# and relatively prime to N\n",
    "#\n",
    "\n",
    "def RSA_decrypt(N, d, C):\n",
    "    R = IntegerModRing(N)\n",
    "    P = R(C)^d\n",
    "    P = P.lift()\n",
    "    return P"
   ]
  },
  {
   "cell_type": "code",
   "execution_count": null,
   "metadata": {},
   "outputs": [],
   "source": [
    "#\n",
    "# This is a function that performs RSA Signature\n",
    "# N is an RSA modulus, and d is a private exponent.\n",
    "# H is a Hash value to be signed, assumed to be a number less than\n",
    "# and relatively prime to N\n",
    "#\n",
    "def RSA_sign(N, d, H):\n",
    "    return RSA_decrypt(N, d, H)"
   ]
  },
  {
   "cell_type": "code",
   "execution_count": null,
   "metadata": {},
   "outputs": [],
   "source": [
    "#\n",
    "# This is a function that performs RSA signature verification\n",
    "# N is an RSA modulus, and e is a public exponent.\n",
    "# H is a Hash value to be signed, assumed to be a number less than\n",
    "# and relatively prime to N\n",
    "# S is a signature of H\n",
    "# Returns True if the signature S matches the Hash value H\n",
    "#\n",
    "def RSA_verify(N, e, H, S):\n",
    "    return (H == RSA_encrypt(N, e, S))"
   ]
  }
 ],
 "metadata": {
  "kernelspec": {
   "display_name": "SageMath 9.2",
   "language": "sage",
   "name": "sagemath"
  },
  "language_info": {
   "codemirror_mode": {
    "name": "ipython",
    "version": 3
   },
   "file_extension": ".py",
   "mimetype": "text/x-python",
   "name": "python",
   "nbconvert_exporter": "python",
   "pygments_lexer": "ipython3",
   "version": "3.7.7"
  }
 },
 "nbformat": 4,
 "nbformat_minor": 2
}
