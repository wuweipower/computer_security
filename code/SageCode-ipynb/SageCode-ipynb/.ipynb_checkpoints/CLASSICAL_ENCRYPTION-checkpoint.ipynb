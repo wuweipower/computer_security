{
 "cells": [
  {
   "cell_type": "code",
   "execution_count": 1,
   "metadata": {},
   "outputs": [],
   "source": [
    "en_alphabet = \"abcdefghijklmnopqrstuvwxyz\""
   ]
  },
  {
   "cell_type": "code",
   "execution_count": 2,
   "metadata": {},
   "outputs": [],
   "source": [
    "#\n",
    "# This function returns true if and only if the character c is an alphabetic character\n",
    "#\n",
    "def is_alphabetic_char(c):\n",
    "    return (c.lower() in en_alphabet)\n",
    "\n",
    "#\n",
    "# This function converts a single character into its numeric value\n",
    "#\n",
    "def char_to_num(c):\n",
    "    return en_alphabet.index(c.lower())\n",
    "    \n",
    "#\n",
    "# This function returns the character corresponding to x mod 26 in the English alphabet\n",
    "#\n",
    "def num_to_char(x):\n",
    "    return en_alphabet[x % 26]"
   ]
  },
  {
   "cell_type": "code",
   "execution_count": 3,
   "metadata": {},
   "outputs": [],
   "source": [
    "def CaesarEncrypt(k, plaintext):\n",
    "    ciphertext = \"\"\n",
    "    for j in range(len(plaintext)):\n",
    "        p = plaintext[j]\n",
    "        if is_alphabetic_char(p):\n",
    "            x = (k + char_to_num(p)) % 26\n",
    "            c = num_to_char(x)\n",
    "        else:\n",
    "            c = p\n",
    "        ciphertext += c\n",
    "    return ciphertext\n",
    "\n",
    "def CaesarDecrypt(k, ciphertext):\n",
    "    plaintext = \"\"\n",
    "    for j in range(len(ciphertext)):\n",
    "        c = ciphertext[j]\n",
    "        if is_alphabetic_char(c):\n",
    "            x = (char_to_num(c) - k) % 26\n",
    "            p = num_to_char(x)\n",
    "        else:\n",
    "            p = c\n",
    "        plaintext += p\n",
    "    return plaintext"
   ]
  },
  {
   "cell_type": "code",
   "execution_count": 4,
   "metadata": {},
   "outputs": [],
   "source": [
    "def BruteForceAttack(ciphertext, keyword=None):\n",
    "    for k in range(26):\n",
    "        plaintext = CaesarDecrypt(k, ciphertext)\n",
    "        if (None==keyword) or (keyword in plaintext):\n",
    "            print ('key', k, \"decryption\", plaintext)\n",
    "    return"
   ]
  },
  {
   "cell_type": "code",
   "execution_count": 5,
   "metadata": {},
   "outputs": [
    {
     "data": {
      "text/plain": [
       "'o cgtz zu mu zu znk suboky zutomnz.'"
      ]
     },
     "execution_count": 5,
     "metadata": {},
     "output_type": "execute_result"
    }
   ],
   "source": [
    "k = 6; plaintext = 'I want to go to the movies tonight.'\n",
    "CaesarEncrypt(k, plaintext)"
   ]
  },
  {
   "cell_type": "code",
   "execution_count": 6,
   "metadata": {},
   "outputs": [
    {
     "data": {
      "text/plain": [
       "'i want to go to the movies tonight.'"
      ]
     },
     "execution_count": 6,
     "metadata": {},
     "output_type": "execute_result"
    }
   ],
   "source": [
    "k = 6; ciphertext = 'o cgtz zu mu zu znk suboky zutomnz.'\n",
    "CaesarDecrypt(k, ciphertext)"
   ]
  },
  {
   "cell_type": "code",
   "execution_count": 7,
   "metadata": {},
   "outputs": [
    {
     "data": {
      "text/plain": [
       "'mkz sk g bgtorrg oik ixkgs, sgqk oz g juahrk.'"
      ]
     },
     "execution_count": 7,
     "metadata": {},
     "output_type": "execute_result"
    }
   ],
   "source": [
    "k = 6; plaintext = 'Get me a vanilla ice cream, make it a double.'\n",
    "CaesarEncrypt(k, plaintext)"
   ]
  },
  {
   "cell_type": "code",
   "execution_count": 8,
   "metadata": {},
   "outputs": [
    {
     "data": {
      "text/plain": [
       "\"x sdc'i bjrw rpgt udg atdcpgs rdwtc.\""
      ]
     },
     "execution_count": 8,
     "metadata": {},
     "output_type": "execute_result"
    }
   ],
   "source": [
    "k = 15; plaintext = \"I don't much care for Leonard Cohen.\"\n",
    "CaesarEncrypt(k, plaintext)"
   ]
  },
  {
   "cell_type": "code",
   "execution_count": 9,
   "metadata": {},
   "outputs": [
    {
     "data": {
      "text/plain": [
       "'y byau heej ruuh vbeqji.'"
      ]
     },
     "execution_count": 9,
     "metadata": {},
     "output_type": "execute_result"
    }
   ],
   "source": [
    "k = 16; plaintext = \"I like root beer floats.\"\n",
    "CaesarEncrypt(k, plaintext)"
   ]
  },
  {
   "cell_type": "code",
   "execution_count": 10,
   "metadata": {},
   "outputs": [
    {
     "data": {
      "text/plain": [
       "'bring the pine cones.'"
      ]
     },
     "execution_count": 10,
     "metadata": {},
     "output_type": "execute_result"
    }
   ],
   "source": [
    "k = 12; ciphertext = \"nduzs ftq buzq oazqe.\"\n",
    "CaesarDecrypt(k, ciphertext)"
   ]
  },
  {
   "cell_type": "code",
   "execution_count": 11,
   "metadata": {},
   "outputs": [
    {
     "data": {
      "text/plain": [
       "'caesar needs to lose weight.'"
      ]
     },
     "execution_count": 11,
     "metadata": {},
     "output_type": "execute_result"
    }
   ],
   "source": [
    "k = 3; ciphertext = \"fdhvdu qhhgv wr orvh zhljkw.\"\n",
    "CaesarDecrypt(k, ciphertext)"
   ]
  },
  {
   "cell_type": "code",
   "execution_count": 15,
   "metadata": {},
   "outputs": [
    {
     "data": {
      "text/plain": [
       "'almonds are tastey.'"
      ]
     },
     "execution_count": 15,
     "metadata": {},
     "output_type": "execute_result"
    }
   ],
   "source": [
    "k = 20; ciphertext = \"ufgihxm uly numnys.\"\n",
    "CaesarDecrypt(k, ciphertext)"
   ]
  },
  {
   "cell_type": "code",
   "execution_count": 14,
   "metadata": {},
   "outputs": [
    {
     "ename": "NameError",
     "evalue": "name 'key' is not defined",
     "output_type": "error",
     "traceback": [
      "\u001b[0;31m---------------------------------------------------------------------------\u001b[0m",
      "\u001b[0;31mNameError\u001b[0m                                 Traceback (most recent call last)",
      "\u001b[0;32m<ipython-input-14-aea18b4c6926>\u001b[0m in \u001b[0;36m<module>\u001b[0;34m\u001b[0m\n\u001b[1;32m      1\u001b[0m \u001b[0mciphertext\u001b[0m \u001b[0;34m=\u001b[0m \u001b[0;34m'gryy gurz gb tb gb nzoebfr puncry.'\u001b[0m\u001b[0;34m\u001b[0m\u001b[0;34m\u001b[0m\u001b[0m\n\u001b[0;32m----> 2\u001b[0;31m \u001b[0mBruteForceAttack\u001b[0m\u001b[0;34m(\u001b[0m\u001b[0mciphertext\u001b[0m\u001b[0;34m,\u001b[0m \u001b[0;34m'chapel'\u001b[0m\u001b[0;34m)\u001b[0m\u001b[0;34m\u001b[0m\u001b[0;34m\u001b[0m\u001b[0m\n\u001b[0m",
      "\u001b[0;32m<ipython-input-4-66d239c486d8>\u001b[0m in \u001b[0;36mBruteForceAttack\u001b[0;34m(ciphertext, keyword)\u001b[0m\n\u001b[1;32m      3\u001b[0m         \u001b[0mplaintext\u001b[0m \u001b[0;34m=\u001b[0m \u001b[0mCaesarDecrypt\u001b[0m\u001b[0;34m(\u001b[0m\u001b[0mk\u001b[0m\u001b[0;34m,\u001b[0m \u001b[0mciphertext\u001b[0m\u001b[0;34m)\u001b[0m\u001b[0;34m\u001b[0m\u001b[0;34m\u001b[0m\u001b[0m\n\u001b[1;32m      4\u001b[0m         \u001b[0;32mif\u001b[0m \u001b[0;34m(\u001b[0m\u001b[0;32mNone\u001b[0m\u001b[0;34m==\u001b[0m\u001b[0mkeyword\u001b[0m\u001b[0;34m)\u001b[0m \u001b[0;32mor\u001b[0m \u001b[0;34m(\u001b[0m\u001b[0mkeyword\u001b[0m \u001b[0;32min\u001b[0m \u001b[0mplaintext\u001b[0m\u001b[0;34m)\u001b[0m\u001b[0;34m:\u001b[0m\u001b[0;34m\u001b[0m\u001b[0;34m\u001b[0m\u001b[0m\n\u001b[0;32m----> 5\u001b[0;31m             \u001b[0mprint\u001b[0m \u001b[0;34m(\u001b[0m\u001b[0mkey\u001b[0m\u001b[0;34m,\u001b[0m \u001b[0mk\u001b[0m\u001b[0;34m,\u001b[0m \u001b[0;34m\"decryption\"\u001b[0m\u001b[0;34m,\u001b[0m \u001b[0mplaintext\u001b[0m\u001b[0;34m)\u001b[0m\u001b[0;34m\u001b[0m\u001b[0;34m\u001b[0m\u001b[0m\n\u001b[0m\u001b[1;32m      6\u001b[0m     \u001b[0;32mreturn\u001b[0m\u001b[0;34m\u001b[0m\u001b[0;34m\u001b[0m\u001b[0m\n",
      "\u001b[0;31mNameError\u001b[0m: name 'key' is not defined"
     ]
    }
   ],
   "source": [
    "ciphertext = 'gryy gurz gb tb gb nzoebfr puncry.'\n",
    "BruteForceAttack(ciphertext, 'chapel')"
   ]
  },
  {
   "cell_type": "code",
   "execution_count": null,
   "metadata": {},
   "outputs": [],
   "source": [
    "ciphertext = 'wziv kyv jyfk nyve kyv tpdsrcj tirjy.'\n",
    "BruteForceAttack(ciphertext, 'cymbal')"
   ]
  },
  {
   "cell_type": "code",
   "execution_count": null,
   "metadata": {},
   "outputs": [],
   "source": [
    "ciphertext = 'baeeq klwosjl osk s esf ozg cfwo lgg emuz.'\n",
    "BruteForceAttack(ciphertext)"
   ]
  }
 ],
 "metadata": {
  "kernelspec": {
   "display_name": "SageMath 9.2",
   "language": "sage",
   "name": "sagemath"
  },
  "language_info": {
   "codemirror_mode": {
    "name": "ipython",
    "version": 3
   },
   "file_extension": ".py",
   "mimetype": "text/x-python",
   "name": "python",
   "nbconvert_exporter": "python",
   "pygments_lexer": "ipython3",
   "version": "3.7.7"
  }
 },
 "nbformat": 4,
 "nbformat_minor": 2
}
