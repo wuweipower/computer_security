{
 "cells": [
  {
   "cell_type": "code",
   "execution_count": null,
   "metadata": {},
   "outputs": [],
   "source": [
    "def EUCLID(a,b):\n",
    "    r\"\"\"\n",
    "    The Euclidean algorithm for finding the gcd of a and b.\n",
    "    This algorithm assumes that a > b => 0\n",
    "    INPUT:\n",
    "        a - positive integer\n",
    "        b - nonnegative integer less than a\n",
    "    OUTPUT:\n",
    "        g - greatest common divisor of a and b\n",
    "    \"\"\"\n",
    "    if (b < 0) or ( a <= b):\n",
    "        raise ValueError(\"Expected 0 < a < b\")\n",
    "    (A, B) = (a,b);\n",
    "    while (True):\n",
    "        if (0 == B):\n",
    "            return A;\n",
    "        R = A % B;\n",
    "        A = B;\n",
    "        B = R;"
   ]
  },
  {
   "cell_type": "code",
   "execution_count": null,
   "metadata": {},
   "outputs": [],
   "source": [
    "def EXTENDED_EUCLID(m,b):\n",
    "    r\"\"\"\n",
    "    The extended Euclidean algorithm to find gcd(m,b).\n",
    "    The input is expected to be such that 0 <= b < m.\n",
    "    INPUT:\n",
    "        m - positive integer\n",
    "        b - nonnegative integer less than m\n",
    "    OUTPUT:\n",
    "        (g, b_inv) - g is the gcd of m and b, b_inv is the multiplicative inverse of b mod m.\n",
    "    \"\"\"\n",
    "    if (m < b) or (b < 0):\n",
    "        raise ValueError(\"Expected input (0 < b < m)\")\n",
    "    (A1,A2,A3) = (1,0,m);\n",
    "    (B1,B2,B3) = (0,1,b);\n",
    "    while (True):\n",
    "        if (0 == B3):\n",
    "            return (A3, None)\n",
    "        if (1 == B3):\n",
    "            return (B3, B2)\n",
    "        Q = floor(A3/B3)\n",
    "        (T1,T2,T3) = (A1-Q*B1, A2-Q*B2, A3-Q*B3)\n",
    "        (A1, A2, A3) = (B1, B2, B3)\n",
    "        (B1, B2, B3) = (T1, T2, T3)"
   ]
  },
  {
   "cell_type": "code",
   "execution_count": null,
   "metadata": {},
   "outputs": [],
   "source": [
    "def POLYNOMIAL_EUCLID(A, B):\n",
    "    r\"\"\"\n",
    "    Euclidian algorithm for polynomial GCD:\n",
    "    Given two polynomials over the same base field,\n",
    "    Assuming degree(A) => degree(B) => 0.\n",
    "    INPUT:\n",
    "        A - polynomial over a field.\n",
    "        B - polynomial over the same field as A, and 0 <= degree(B) <= degree(A).\n",
    "    OUTPUT:\n",
    "        G - greatest common divisor of A and B.\n",
    "    \"\"\"\n",
    "    degA = A.degree();\n",
    "    degB = B.degree();\n",
    "    if ((degB < 0) or (degA < degB)):\n",
    "        raise ValueError(\"Expected 0 <= degree(B) <= degree(A)\")\n",
    "    while(True):\n",
    "        if (0 == B):\n",
    "            return A;\n",
    "        R = A % B;\n",
    "        A = B;\n",
    "        B = R;"
   ]
  },
  {
   "cell_type": "code",
   "execution_count": null,
   "metadata": {},
   "outputs": [],
   "source": [
    "def POLYNOMIAL_EXTENDED_EUCLID(m, b):\n",
    "    r\"\"\"\n",
    "    Extended Euclidian algorithm for polynomial GCD:\n",
    "    Given two polynomials over the same base field,\n",
    "    Assuming degree(m) => degree(b) => 0\n",
    "    INPUT:\n",
    "        m - polynomial over a field.\n",
    "        b - polynomial over the same field as A, and 0 <= degree(B) <= degree(M).\n",
    "    OUTPUT:\n",
    "        (g,b_inv) - the pair where:\n",
    "        g - greatest common divisor of m and b.\n",
    "        m_inv - is None if G is not of degree 0, \n",
    "                and otherwise it is the polynomial\n",
    "                such that b(X)*b_inv(X) = 1 mod m(X)\n",
    "    \"\"\"\n",
    "    degm = m.degree();\n",
    "    degb = b.degree();\n",
    "    if(degb < 0) or (degm < degb):\n",
    "        raise ValueError(\"expected 0 <= degree(b) <= degree(m)\")\n",
    "    (A1, A2, A3) = (1, 0, m);\n",
    "    (B1, B2, B3) = (0, 1, b);\n",
    "    while (True):\n",
    "        if (0 == B3):\n",
    "            return (A3, None);\n",
    "        if (0 == B3.degree()):\n",
    "            return (B3/B3, B2/B3);\n",
    "        Q = A3.quo_rem(B3)[0];\n",
    "        (T1, T2, T3) = (A1 - Q*B1, A2 - Q*B2, A3 - Q*B3);\n",
    "        (A1, A2, A3) = (B1, B2, B3);\n",
    "        (B1, B2, B3) = (T1, T2, T3);"
   ]
  },
  {
   "cell_type": "code",
   "execution_count": null,
   "metadata": {},
   "outputs": [],
   "source": [
    "gcd(15,100)"
   ]
  },
  {
   "cell_type": "code",
   "execution_count": null,
   "metadata": {},
   "outputs": [],
   "source": [
    "gcd(90,65311)"
   ]
  },
  {
   "cell_type": "code",
   "execution_count": null,
   "metadata": {},
   "outputs": [],
   "source": [
    "x = 10456890\n",
    "x.gcd(100)"
   ]
  },
  {
   "cell_type": "code",
   "execution_count": null,
   "metadata": {},
   "outputs": [],
   "source": [
    "xgcd(17,31)"
   ]
  },
  {
   "cell_type": "code",
   "execution_count": null,
   "metadata": {},
   "outputs": [],
   "source": [
    "xgcd(10, 115)"
   ]
  },
  {
   "cell_type": "code",
   "execution_count": null,
   "metadata": {},
   "outputs": [],
   "source": [
    "x = 300\n",
    "x.xgcd(36)"
   ]
  },
  {
   "cell_type": "code",
   "execution_count": null,
   "metadata": {},
   "outputs": [],
   "source": [
    "F = GF(2)\n",
    "F"
   ]
  },
  {
   "cell_type": "code",
   "execution_count": null,
   "metadata": {},
   "outputs": [],
   "source": [
    "F = GF(37)\n",
    "F"
   ]
  },
  {
   "cell_type": "code",
   "execution_count": null,
   "metadata": {},
   "outputs": [],
   "source": [
    "p = 95131\n",
    "K = GF(p)\n",
    "K"
   ]
  },
  {
   "cell_type": "code",
   "execution_count": null,
   "metadata": {},
   "outputs": [],
   "source": [
    "F.<a> = GF(128)\n",
    "F"
   ]
  },
  {
   "cell_type": "code",
   "execution_count": null,
   "metadata": {},
   "outputs": [],
   "source": [
    "K = GF(37)\n",
    "a = K(3)\n",
    "b = K(18)\n",
    "a - b"
   ]
  },
  {
   "cell_type": "code",
   "execution_count": null,
   "metadata": {},
   "outputs": [],
   "source": [
    "a + b"
   ]
  },
  {
   "cell_type": "code",
   "execution_count": null,
   "metadata": {},
   "outputs": [],
   "source": [
    "a * b"
   ]
  },
  {
   "cell_type": "code",
   "execution_count": null,
   "metadata": {},
   "outputs": [],
   "source": [
    "a/b"
   ]
  },
  {
   "cell_type": "code",
   "execution_count": null,
   "metadata": {},
   "outputs": [],
   "source": [
    "a^-1"
   ]
  },
  {
   "cell_type": "code",
   "execution_count": null,
   "metadata": {},
   "outputs": [],
   "source": [
    "1/a"
   ]
  },
  {
   "cell_type": "code",
   "execution_count": null,
   "metadata": {},
   "outputs": [],
   "source": [
    "F.<a> = GF(128)\n",
    "b = a^2 + 1\n",
    "c = a^5 + a^3 + 1\n",
    "b - c"
   ]
  },
  {
   "cell_type": "code",
   "execution_count": null,
   "metadata": {},
   "outputs": [],
   "source": [
    "b + c"
   ]
  },
  {
   "cell_type": "code",
   "execution_count": null,
   "metadata": {},
   "outputs": [],
   "source": [
    "b*c"
   ]
  },
  {
   "cell_type": "code",
   "execution_count": null,
   "metadata": {},
   "outputs": [],
   "source": [
    "b/c"
   ]
  },
  {
   "cell_type": "code",
   "execution_count": null,
   "metadata": {},
   "outputs": [],
   "source": [
    "b^-1"
   ]
  },
  {
   "cell_type": "code",
   "execution_count": null,
   "metadata": {},
   "outputs": [],
   "source": [
    "1/b"
   ]
  },
  {
   "cell_type": "code",
   "execution_count": null,
   "metadata": {},
   "outputs": [],
   "source": [
    "R.<x> = GF(2)[]\n",
    "R"
   ]
  },
  {
   "cell_type": "code",
   "execution_count": null,
   "metadata": {},
   "outputs": [],
   "source": [
    "R.<x> = GF(101)[]\n",
    "R"
   ]
  },
  {
   "cell_type": "code",
   "execution_count": null,
   "metadata": {},
   "outputs": [],
   "source": [
    "R.<x> = F[]\n",
    "R"
   ]
  },
  {
   "cell_type": "code",
   "execution_count": null,
   "metadata": {},
   "outputs": [],
   "source": [
    "R.<x> = GF(2)[]\n",
    "f = x^3 + x + 1\n",
    "g = x^5 + x\n",
    "f + g"
   ]
  },
  {
   "cell_type": "code",
   "execution_count": null,
   "metadata": {},
   "outputs": [],
   "source": [
    "f*g"
   ]
  },
  {
   "cell_type": "code",
   "execution_count": null,
   "metadata": {},
   "outputs": [],
   "source": [
    "g.quo_rem(f)"
   ]
  },
  {
   "cell_type": "code",
   "execution_count": null,
   "metadata": {},
   "outputs": [],
   "source": [
    "f.gcd(g)"
   ]
  },
  {
   "cell_type": "code",
   "execution_count": null,
   "metadata": {},
   "outputs": [],
   "source": [
    "g.gcd(g^2)"
   ]
  },
  {
   "cell_type": "code",
   "execution_count": null,
   "metadata": {},
   "outputs": [],
   "source": [
    "R.<x> = GF(17)[]\n",
    "f = 3*x^3 + 2*x^2 + x\n",
    "g = x^2 + 5\n",
    "f - g"
   ]
  },
  {
   "cell_type": "code",
   "execution_count": null,
   "metadata": {},
   "outputs": [],
   "source": [
    "f * g"
   ]
  },
  {
   "cell_type": "code",
   "execution_count": null,
   "metadata": {},
   "outputs": [],
   "source": [
    "f.quo_rem(g)"
   ]
  },
  {
   "cell_type": "code",
   "execution_count": null,
   "metadata": {},
   "outputs": [],
   "source": [
    "f.gcd(g)"
   ]
  },
  {
   "cell_type": "code",
   "execution_count": null,
   "metadata": {},
   "outputs": [],
   "source": [
    "f.gcd(x^2 + x)"
   ]
  },
  {
   "cell_type": "code",
   "execution_count": null,
   "metadata": {},
   "outputs": [],
   "source": [
    "F.<a> = GF(32)\n",
    "F.polynomial()"
   ]
  },
  {
   "cell_type": "code",
   "execution_count": null,
   "metadata": {},
   "outputs": [],
   "source": [
    "R.<x> = GF(2)[]\n",
    "F = GF(2).extension(x^5 + x^3 + 1, 'a')\n",
    "a = F.gen()\n",
    "F"
   ]
  }
 ],
 "metadata": {
  "kernelspec": {
   "display_name": "SageMath 9.2",
   "language": "sage",
   "name": "sagemath"
  },
  "language_info": {
   "codemirror_mode": {
    "name": "ipython",
    "version": 3
   },
   "file_extension": ".py",
   "mimetype": "text/x-python",
   "name": "python",
   "nbconvert_exporter": "python",
   "pygments_lexer": "ipython3",
   "version": "3.7.7"
  }
 },
 "nbformat": 4,
 "nbformat_minor": 2
}
