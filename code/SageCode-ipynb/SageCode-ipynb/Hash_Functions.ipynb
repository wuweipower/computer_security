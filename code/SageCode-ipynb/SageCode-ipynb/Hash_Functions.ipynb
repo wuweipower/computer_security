{
 "metadata": {
  "language_info": {
   "codemirror_mode": {
    "name": "ipython",
    "version": 3
   },
   "file_extension": ".py",
   "mimetype": "text/x-python",
   "name": "python",
   "nbconvert_exporter": "python",
   "pygments_lexer": "ipython3",
   "version": 3
  },
  "orig_nbformat": 2
 },
 "nbformat": 4,
 "nbformat_minor": 2,
 "cells": [
  {
   "cell_type": "code",
   "execution_count": null,
   "metadata": {},
   "outputs": [],
   "source": [
    "#\n",
    "# This function generates a mash modulus\n",
    "# takes a bit length, and returns a Mash\n",
    "# modulus l or l-1 bits long (if n is odd)\n",
    "# returns p, q, and the product N\n",
    "#\n",
    "def generate_mash_modulus(l):\n",
    "\n",
    "    m = l.quo_rem(2)[0]\n",
    "\n",
    "    p = 1\n",
    "    while (p < 2^(m-1)):\n",
    "        p = random_prime(2^m)\n",
    "        \n",
    "    q = 1\n",
    "    while (q < 2^(m-1)):\n",
    "        q = random_prime(2^m)\n",
    "    \n",
    "    N = p*q\n",
    "    \n",
    "    return (N, p, q)"
   ]
  },
  {
   "cell_type": "code",
   "execution_count": null,
   "metadata": {},
   "outputs": [],
   "source": [
    "#\n",
    "# Mash Hash\n",
    "# the value n is the data to be hashed.\n",
    "# the value N is the modulus\n",
    "# Returns the hash value.\n",
    "#\n",
    "def MASH(n, N):\n",
    "    \n",
    "\tH = previous_prime(N)\n",
    "\t\n",
    "\tq = n\n",
    "\t\n",
    "\twhile (0 != q):\n",
    "\t\t(q, a) = q.quo_rem(N)\n",
    "\t\tH = ((H+a)^2 + H) % N\n",
    "\t\t\n",
    "\treturn H"
   ]
  },
  {
   "cell_type": "code",
   "execution_count": null,
   "metadata": {},
   "outputs": [],
   "source": [
    "#\n",
    "# Generate a simple hash modulus of bit length n\n",
    "# also generate g < N and relatively prime to N.\n",
    "#\n",
    "def generate_simple_hash_params(n):\n",
    "\n",
    "    m = n.quo_rem(2)[0]\n",
    "    \n",
    "    p = 1\n",
    "    while (p < 2^(m-1)):\n",
    "    \tp = random_prime(2^m)\n",
    "    \n",
    "    q = 1\t\n",
    "    while (q < 2^(m-1)):\n",
    "    \tq = random_prime(2^m)\n",
    "        \n",
    "    N = p*q\n",
    "    \n",
    "    g = N\n",
    "    while (1 != gcd(g,N)):\n",
    "        g = randint(1,N-1)\n",
    "    \n",
    "    return (N, g)"
   ]
  },
  {
   "cell_type": "code",
   "execution_count": null,
   "metadata": {},
   "outputs": [],
   "source": [
    "#\n",
    "# Perform the simple hashing algorithm.\n",
    "# g, N are the simple hash parameters\n",
    "#\n",
    "# n is the data to hash\n",
    "#\n",
    " \n",
    "def simple_hash(n, g, N):\n",
    "\n",
    "    R = IntegerModRing(N)\n",
    "    \n",
    "    H = R(g)^n\n",
    "    H = H.lift()\n",
    "    \n",
    "    return H"
   ]
  },
  {
   "cell_type": "code",
   "execution_count": null,
   "metadata": {},
   "outputs": [],
   "source": [
    "#\n",
    "# Given p and q (factors of a simple hash modulus)\n",
    "# \n",
    "# This function calculates two inputs that hash to the same value\n",
    "# using simple hash\n",
    "#\n",
    "def simple_hash_collision(p, q):\n",
    "\n",
    "    phi_N = (p-1)*(q-1)\n",
    "    \n",
    "    n = randint(1,phi_N-1)\n",
    "    \n",
    "    m = n + phi_N\n",
    "    \n",
    "    return (m, n)"
   ]
  }
 ]
}