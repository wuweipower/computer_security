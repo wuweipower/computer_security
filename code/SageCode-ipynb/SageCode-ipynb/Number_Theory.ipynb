{
 "cells": [
  {
   "cell_type": "code",
   "execution_count": null,
   "metadata": {},
   "outputs": [],
   "source": [
    "def chinese_remainder_theorem(moduli, residues):\n",
    "    r\"\"\"\n",
    "    Function that implements the chinese remainder theorem.\n",
    "    INPUT:\n",
    "        moduli - list or positive integers.\n",
    "        residues -  list of remainders such that remainder at position j\n",
    "                    results when divided by the corresponding modulus at position j in moduli.\n",
    "    OUTPUT:\n",
    "        x - integer such that division by moduli[j] gives remainder residue[j].\n",
    "    \"\"\"\n",
    "    if (len(moduli) != len(residues)):\n",
    "        raise ValueError(\"expected len(moduli) == len(residues)\")\n",
    "\n",
    "    M = prod(moduli);\n",
    "    x = 0;\n",
    "\n",
    "    for j in range(len(moduli)):\n",
    "        Mj = moduli[j]\n",
    "        Mpr = M/Mj\n",
    "        (Mj_Mpr_gcd, Mpr_inv, Mj_inv) = xgcd(Mpr, Mj)\n",
    "        Mpr_inv = Mpr_inv\n",
    "        if (Mj_Mpr_gcd != 1):\n",
    "            raise ValueError(\"Expected all moduli are coprime.\")\n",
    "        x += residues[j]*Mpr*Mpr_inv\n",
    "    \n",
    "    return x"
   ]
  },
  {
   "cell_type": "code",
   "execution_count": null,
   "metadata": {},
   "outputs": [],
   "source": [
    "r\"\"\"\n",
    "EXAMPLES:\n",
    "    sage: MILLER_RABIN_TEST(101) False\n",
    "    sage: MILLER_RABIN_TEST(592701729979) True\n",
    "\"\"\"\n",
    "\n",
    "def MILLER_RABIN_TEST(n):\n",
    "    r\"\"\"\n",
    "    This function implements the Miller-Rabin Test. It either returns \"inconclusive\" or \"composite.\"\n",
    "    INPUT:\n",
    "        n - positive integer to probabilistically deter- mine the primality of.\n",
    "    OUTPUT:\n",
    "        If the function returns False, then the test was inconclusive.\n",
    "        If the function returns True, then the test was conclusive and n is composite.\n",
    "    \"\"\"\n",
    "\n",
    "    R = IntegerModRing(n); # object for integers mod n\n",
    "    # (1) Find integers k, q w/ k > 0 and q odd so that (n-1) == 2^k * q\n",
    "    q = n-1\n",
    "    k = 0\n",
    "    while (1 == (q % 2)):\n",
    "        k += 1\n",
    "        q = q.quo_rem(2)[0] # q/2 but with result of type Integer\n",
    "    \n",
    "    # (2) select random a in 1 < a < n-1\n",
    "    a = randint(1,n-1)\n",
    "    a = R(a) # makes it so modular exponentiation is done fast\n",
    "\n",
    "    # if a^q mod n == 1 then return inconclusive\n",
    "    if (1 == a^q):\n",
    "        return False\n",
    "\n",
    "    # (3) for j = 0 to k-1 do: if a^(2^j * q) mod n = n-1 return inconclusive\n",
    "    e = q\n",
    "    for j in range(k):\n",
    "        if (n-1) == (a^e):\n",
    "            return False\n",
    "        e = 2*e\n",
    "\n",
    "    # (4) if you’ve made it here return composite.\n",
    "    return True"
   ]
  },
  {
   "cell_type": "code",
   "execution_count": null,
   "metadata": {},
   "outputs": [],
   "source": [
    "def ModExp(x,e,N):\n",
    "    r\"\"\"\n",
    "    Calculates x^e mod N using square and multiply.\n",
    "    INPUT:\n",
    "        x - an integer.\n",
    "        e - a nonnegative integer.\n",
    "        N - a positive integer modulus.\n",
    "    OUTPUT:\n",
    "        y - x^e mod N\n",
    "    \"\"\"\n",
    "\n",
    "    e_bits = e.bits()\n",
    "    e_bitlen = len(e_bits)\n",
    "\n",
    "    y = 1\n",
    "\n",
    "    for j in range(e_bitlen):\n",
    "        y = y^2 % N\n",
    "        if (1 == e_bits[e_bitlen-1-j]):\n",
    "            y = x*y % N\n",
    "\n",
    "    return y"
   ]
  },
  {
   "cell_type": "code",
   "execution_count": null,
   "metadata": {},
   "outputs": [],
   "source": [
    "CRT(8, 16, 17, 49)"
   ]
  },
  {
   "cell_type": "code",
   "execution_count": null,
   "metadata": {},
   "outputs": [],
   "source": [
    "CRT(1,2,5,7)"
   ]
  },
  {
   "cell_type": "code",
   "execution_count": null,
   "metadata": {},
   "outputs": [],
   "source": [
    "CRT(50,64,101,127)"
   ]
  },
  {
   "cell_type": "code",
   "execution_count": null,
   "metadata": {},
   "outputs": [],
   "source": [
    "CRT_list([50,64],[101,127])"
   ]
  },
  {
   "cell_type": "code",
   "execution_count": null,
   "metadata": {},
   "outputs": [],
   "source": [
    "CRT_list([8, 20, 13], [49, 101, 127])"
   ]
  },
  {
   "cell_type": "code",
   "execution_count": null,
   "metadata": {},
   "outputs": [],
   "source": [
    "CRT_list([10,11,12,13,14],[29,31,37,41,43])"
   ]
  },
  {
   "cell_type": "code",
   "execution_count": null,
   "metadata": {},
   "outputs": [],
   "source": [
    "CRT_basis([29,31,37,41,43])"
   ]
  },
  {
   "cell_type": "code",
   "execution_count": null,
   "metadata": {},
   "outputs": [],
   "source": [
    "CRT_vectors([[1,10],[2,11],[3,12],[4,13],[5,14]], [29,31,37,41,43])"
   ]
  },
  {
   "cell_type": "code",
   "execution_count": null,
   "metadata": {},
   "outputs": [],
   "source": [
    "R = IntegerModRing(101)"
   ]
  },
  {
   "cell_type": "code",
   "execution_count": null,
   "metadata": {},
   "outputs": [],
   "source": [
    "x = R(10)\n",
    "x^99"
   ]
  },
  {
   "cell_type": "code",
   "execution_count": null,
   "metadata": {},
   "outputs": [],
   "source": [
    "R = IntegerModRing(1024)\n",
    "x = R(111)\n",
    "x^345"
   ]
  },
  {
   "cell_type": "code",
   "execution_count": null,
   "metadata": {},
   "outputs": [],
   "source": [
    "x = R(100)\n",
    "x^200"
   ]
  },
  {
   "cell_type": "code",
   "execution_count": null,
   "metadata": {},
   "outputs": [],
   "source": [
    "N = 127*101\n",
    "R = IntegerModRing(N)\n",
    "x = R(54)\n",
    "x^95"
   ]
  },
  {
   "cell_type": "code",
   "execution_count": null,
   "metadata": {},
   "outputs": [],
   "source": [
    "euler_phi(101)"
   ]
  },
  {
   "cell_type": "code",
   "execution_count": null,
   "metadata": {},
   "outputs": [],
   "source": [
    "euler_phi(1024)"
   ]
  },
  {
   "cell_type": "code",
   "execution_count": null,
   "metadata": {},
   "outputs": [],
   "source": [
    "euler_phi(333)"
   ]
  },
  {
   "cell_type": "code",
   "execution_count": null,
   "metadata": {},
   "outputs": [],
   "source": [
    "euler_phi(125)"
   ]
  },
  {
   "cell_type": "code",
   "execution_count": null,
   "metadata": {},
   "outputs": [],
   "source": [
    "euler_phi(423)"
   ]
  }
 ],
 "metadata": {
  "kernelspec": {
   "display_name": "SageMath 9.2",
   "language": "sage",
   "name": "sagemath"
  },
  "language_info": {
   "codemirror_mode": {
    "name": "ipython",
    "version": 3
   },
   "file_extension": ".py",
   "mimetype": "text/x-python",
   "name": "python",
   "nbconvert_exporter": "python",
   "pygments_lexer": "ipython3",
   "version": "3.7.7"
  }
 },
 "nbformat": 4,
 "nbformat_minor": 2
}
